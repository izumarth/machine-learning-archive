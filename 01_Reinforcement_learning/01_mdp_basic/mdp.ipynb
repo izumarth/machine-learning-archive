{
  "nbformat": 4,
  "nbformat_minor": 0,
  "metadata": {
    "colab": {
      "provenance": []
    },
    "kernelspec": {
      "name": "python3",
      "display_name": "Python 3"
    },
    "language_info": {
      "name": "python"
    }
  },
  "cells": [
    {
      "cell_type": "code",
      "execution_count": 1,
      "metadata": {
        "colab": {
          "base_uri": "https://localhost:8080/"
        },
        "id": "dch5npzBPWPS",
        "outputId": "564a86e2-5dbf-43aa-c3cc-4dd70319c103"
      },
      "outputs": [
        {
          "output_type": "stream",
          "name": "stdout",
          "text": [
            "\u001b[?25l     \u001b[90m━━━━━━━━━━━━━━━━━━━━━━━━━━━━━━━━━━━━━━━━\u001b[0m \u001b[32m0.0/624.4 kB\u001b[0m \u001b[31m?\u001b[0m eta \u001b[36m-:--:--\u001b[0m\r\u001b[2K     \u001b[91m━━━━━━━━━━━━\u001b[0m\u001b[90m╺\u001b[0m\u001b[90m━━━━━━━━━━━━━━━━━━━━━━━━━━━\u001b[0m \u001b[32m194.6/624.4 kB\u001b[0m \u001b[31m5.4 MB/s\u001b[0m eta \u001b[36m0:00:01\u001b[0m\r\u001b[2K     \u001b[91m━━━━━━━━━━━━━━━━━━━━━━━━━━━━━━━━━━━━━━━\u001b[0m\u001b[90m╺\u001b[0m \u001b[32m614.4/624.4 kB\u001b[0m \u001b[31m10.3 MB/s\u001b[0m eta \u001b[36m0:00:01\u001b[0m\r\u001b[2K     \u001b[90m━━━━━━━━━━━━━━━━━━━━━━━━━━━━━━━━━━━━━━━━\u001b[0m \u001b[32m624.4/624.4 kB\u001b[0m \u001b[31m6.7 MB/s\u001b[0m eta \u001b[36m0:00:00\u001b[0m\n",
            "\u001b[?25h  Installing build dependencies ... \u001b[?25l\u001b[?25hdone\n",
            "  Getting requirements to build wheel ... \u001b[?25l\u001b[?25hdone\n",
            "  Preparing metadata (pyproject.toml) ... \u001b[?25l\u001b[?25hdone\n",
            "  Building wheel for gym (pyproject.toml) ... \u001b[?25l\u001b[?25hdone\n"
          ]
        }
      ],
      "source": [
        "# @title Setup code\n",
        "\n",
        "\n",
        "!pip install -qq gym==0.23.0\n",
        "\n",
        "\n",
        "from typing import Tuple, Dict, Optional, Iterable\n",
        "\n",
        "import numpy as np\n",
        "import matplotlib\n",
        "from matplotlib import animation\n",
        "\n",
        "from IPython.display import HTML\n",
        "\n",
        "import gym\n",
        "from gym import spaces\n",
        "from gym.error import DependencyNotInstalled\n",
        "\n",
        "import pygame\n",
        "from pygame import gfxdraw\n",
        "\n",
        "\n",
        "class Maze(gym.Env):\n",
        "\n",
        "    def __init__(self, exploring_starts: bool = False,\n",
        "                 shaped_rewards: bool = False, size: int = 5) -> None:\n",
        "        super().__init__()\n",
        "        self.exploring_starts = exploring_starts\n",
        "        self.shaped_rewards = shaped_rewards\n",
        "        self.state = (size - 1, size - 1)\n",
        "        self.goal = (size - 1, size - 1)\n",
        "        self.maze = self._create_maze(size=size)\n",
        "        self.distances = self._compute_distances(self.goal, self.maze)\n",
        "        self.action_space = spaces.Discrete(n=4)\n",
        "        self.action_space.action_meanings = {0: 'UP', 1: 'RIGHT', 2: 'DOWN', 3: \"LEFT\"}\n",
        "        self.observation_space = spaces.MultiDiscrete([size, size])\n",
        "\n",
        "        self.screen = None\n",
        "        self.agent_transform = None\n",
        "\n",
        "    def step(self, action: int) -> Tuple[Tuple[int, int], float, bool, Dict]:\n",
        "        reward = self.compute_reward(self.state, action)\n",
        "        self.state = self._get_next_state(self.state, action)\n",
        "        done = self.state == self.goal\n",
        "        info = {}\n",
        "        return self.state, reward, done, info\n",
        "\n",
        "    def reset(self) -> Tuple[int, int]:\n",
        "        if self.exploring_starts:\n",
        "            while self.state == self.goal:\n",
        "                self.state = tuple(self.observation_space.sample())\n",
        "        else:\n",
        "            self.state = (0, 0)\n",
        "        return self.state\n",
        "\n",
        "    def render(self, mode: str = 'human') -> Optional[np.ndarray]:\n",
        "        assert mode in ['human', 'rgb_array']\n",
        "\n",
        "        screen_size = 600\n",
        "        scale = screen_size / 5\n",
        "\n",
        "        if self.screen is None:\n",
        "            pygame.init()\n",
        "            self.screen = pygame.Surface((screen_size, screen_size))\n",
        "\n",
        "        surf = pygame.Surface((screen_size, screen_size))\n",
        "        surf.fill((22, 36, 71))\n",
        "\n",
        "\n",
        "        for row in range(5):\n",
        "            for col in range(5):\n",
        "\n",
        "                state = (row, col)\n",
        "                for next_state in [(row + 1, col), (row - 1, col), (row, col + 1), (row, col - 1)]:\n",
        "                    if next_state not in self.maze[state]:\n",
        "\n",
        "                        # Add the geometry of the edges and walls (i.e. the boundaries between\n",
        "                        # adjacent squares that are not connected).\n",
        "                        row_diff, col_diff = np.subtract(next_state, state)\n",
        "                        left = (col + (col_diff > 0)) * scale - 2 * (col_diff != 0)\n",
        "                        right = ((col + 1) - (col_diff < 0)) * scale + 2 * (col_diff != 0)\n",
        "                        top = (5 - (row + (row_diff > 0))) * scale - 2 * (row_diff != 0)\n",
        "                        bottom = (5 - ((row + 1) - (row_diff < 0))) * scale + 2 * (row_diff != 0)\n",
        "\n",
        "                        gfxdraw.filled_polygon(surf, [(left, bottom), (left, top), (right, top), (right, bottom)], (255, 255, 255))\n",
        "\n",
        "        # Add the geometry of the goal square to the viewer.\n",
        "        left, right, top, bottom = scale * 4 + 10, scale * 5 - 10, scale - 10, 10\n",
        "        gfxdraw.filled_polygon(surf, [(left, bottom), (left, top), (right, top), (right, bottom)], (40, 199, 172))\n",
        "\n",
        "        # Add the geometry of the agent to the viewer.\n",
        "        agent_row = int(screen_size - scale * (self.state[0] + .5))\n",
        "        agent_col = int(scale * (self.state[1] + .5))\n",
        "        gfxdraw.filled_circle(surf, agent_col, agent_row, int(scale * .6 / 2), (228, 63, 90))\n",
        "\n",
        "        surf = pygame.transform.flip(surf, False, True)\n",
        "        self.screen.blit(surf, (0, 0))\n",
        "\n",
        "        return np.transpose(\n",
        "                np.array(pygame.surfarray.pixels3d(self.screen)), axes=(1, 0, 2)\n",
        "            )\n",
        "\n",
        "    def close(self) -> None:\n",
        "        if self.screen is not None:\n",
        "            pygame.display.quit()\n",
        "            pygame.quit()\n",
        "            self.screen = None\n",
        "\n",
        "    def compute_reward(self, state: Tuple[int, int], action: int) -> float:\n",
        "        next_state = self._get_next_state(state, action)\n",
        "        if self.shaped_rewards:\n",
        "            return - (self.distances[next_state] / self.distances.max())\n",
        "        return - float(state != self.goal)\n",
        "\n",
        "    def simulate_step(self, state: Tuple[int, int], action: int):\n",
        "        reward = self.compute_reward(state, action)\n",
        "        next_state = self._get_next_state(state, action)\n",
        "        done = next_state == self.goal\n",
        "        info = {}\n",
        "        return next_state, reward, done, info\n",
        "\n",
        "    def _get_next_state(self, state: Tuple[int, int], action: int) -> Tuple[int, int]:\n",
        "        if action == 0:\n",
        "            next_state = (state[0] - 1, state[1])\n",
        "        elif action == 1:\n",
        "            next_state = (state[0], state[1] + 1)\n",
        "        elif action == 2:\n",
        "            next_state = (state[0] + 1, state[1])\n",
        "        elif action == 3:\n",
        "            next_state = (state[0], state[1] - 1)\n",
        "        else:\n",
        "            raise ValueError(\"Action value not supported:\", action)\n",
        "        if next_state in self.maze[state]:\n",
        "            return next_state\n",
        "        return state\n",
        "\n",
        "    @staticmethod\n",
        "    def _create_maze(size: int) -> Dict[Tuple[int, int], Iterable[Tuple[int, int]]]:\n",
        "        maze = {(row, col): [(row - 1, col), (row + 1, col), (row, col - 1), (row, col + 1)]\n",
        "                for row in range(size) for col in range(size)}\n",
        "\n",
        "        left_edges = [[(row, 0), (row, -1)] for row in range(size)]\n",
        "        right_edges = [[(row, size - 1), (row, size)] for row in range(size)]\n",
        "        upper_edges = [[(0, col), (-1, col)] for col in range(size)]\n",
        "        lower_edges = [[(size - 1, col), (size, col)] for col in range(size)]\n",
        "        walls = [\n",
        "            [(1, 0), (1, 1)], [(2, 0), (2, 1)], [(3, 0), (3, 1)],\n",
        "            [(1, 1), (1, 2)], [(2, 1), (2, 2)], [(3, 1), (3, 2)],\n",
        "            [(3, 1), (4, 1)], [(0, 2), (1, 2)], [(1, 2), (1, 3)],\n",
        "            [(2, 2), (3, 2)], [(2, 3), (3, 3)], [(2, 4), (3, 4)],\n",
        "            [(4, 2), (4, 3)], [(1, 3), (1, 4)], [(2, 3), (2, 4)],\n",
        "        ]\n",
        "\n",
        "        obstacles = upper_edges + lower_edges + left_edges + right_edges + walls\n",
        "\n",
        "        for src, dst in obstacles:\n",
        "            maze[src].remove(dst)\n",
        "\n",
        "            if dst in maze:\n",
        "                maze[dst].remove(src)\n",
        "\n",
        "        return maze\n",
        "\n",
        "    @staticmethod\n",
        "    def _compute_distances(goal: Tuple[int, int],\n",
        "                           maze: Dict[Tuple[int, int], Iterable[Tuple[int, int]]]) -> np.ndarray:\n",
        "        distances = np.full((5, 5), np.inf)\n",
        "        visited = set()\n",
        "        distances[goal] = 0.\n",
        "\n",
        "        while visited != set(maze):\n",
        "            sorted_dst = [(v // 5, v % 5) for v in distances.argsort(axis=None)]\n",
        "            closest = next(x for x in sorted_dst if x not in visited)\n",
        "            visited.add(closest)\n",
        "\n",
        "            for neighbour in maze[closest]:\n",
        "                distances[neighbour] = min(distances[neighbour], distances[closest] + 1)\n",
        "        return distances\n",
        "\n",
        "\n",
        "def display_video(frames):\n",
        "    # Copied from: https://colab.research.google.com/github/deepmind/dm_control/blob/master/tutorial.ipynb\n",
        "    orig_backend = matplotlib.get_backend()\n",
        "    matplotlib.use('Agg')\n",
        "    fig, ax = plt.subplots(1, 1, figsize=(5, 5))\n",
        "    matplotlib.use(orig_backend)\n",
        "    ax.set_axis_off()\n",
        "    ax.set_aspect('equal')\n",
        "    ax.set_position([0, 0, 1, 1])\n",
        "    im = ax.imshow(frames[0])\n",
        "    def update(frame):\n",
        "        im.set_data(frame)\n",
        "        return [im]\n",
        "    anim = animation.FuncAnimation(fig=fig, func=update, frames=frames,\n",
        "                                    interval=50, blit=True, repeat=False)\n",
        "    return HTML(anim.to_html5_video())\n"
      ]
    },
    {
      "cell_type": "code",
      "source": [
        "import gym\n",
        "import numpy as np\n",
        "from IPython import display\n",
        "from matplotlib import pyplot as plt\n",
        "\n",
        "env = Maze()\n",
        "\n",
        "%matplotlib inline"
      ],
      "metadata": {
        "id": "ve551cf0V5Wn"
      },
      "execution_count": 2,
      "outputs": []
    },
    {
      "cell_type": "code",
      "source": [
        "initial_state = env.reset()\n",
        "\n",
        "# 環境を初期状態にし、エージェントがそれを観察できるようにする\n",
        "print(initial_state)"
      ],
      "metadata": {
        "colab": {
          "base_uri": "https://localhost:8080/"
        },
        "id": "m0CwuyMNVtoi",
        "outputId": "e9144749-8b9e-49ab-a8a3-401b6fc9bf2b"
      },
      "execution_count": 3,
      "outputs": [
        {
          "output_type": "stream",
          "name": "stdout",
          "text": [
            "(0, 0)\n"
          ]
        }
      ]
    },
    {
      "cell_type": "code",
      "source": [
        "#環境の現在の状態を表すイメージをnp.ndarrayの形式で生成する。\n",
        "frame = env.render(mode='rgb_array')\n",
        "plt.axis('off')\n",
        "plt.title(f'State: {initial_state}')\n",
        "plt.imshow(frame)"
      ],
      "metadata": {
        "colab": {
          "base_uri": "https://localhost:8080/",
          "height": 445
        },
        "id": "159cKdV4XChs",
        "outputId": "cf2409f2-d2fd-46dc-baec-1d80d12fe9b2"
      },
      "execution_count": 4,
      "outputs": [
        {
          "output_type": "execute_result",
          "data": {
            "text/plain": [
              "<matplotlib.image.AxesImage at 0x7f3edc53baf0>"
            ]
          },
          "metadata": {},
          "execution_count": 4
        },
        {
          "output_type": "display_data",
          "data": {
            "text/plain": [
              "<Figure size 640x480 with 1 Axes>"
            ],
            "image/png": "[encoded data removed]"
          },
          "metadata": {}
        }
      ]
    },
    {
      "cell_type": "code",
      "source": [
        "# env.step() とは\n",
        "# 　　Agentが選択したActionを環境に適用し、その環境を変更します\n",
        "#  環境は4つのオブジェクトのタプルを返します:\n",
        "#   - 次のState\n",
        "#   - 獲得したReward\n",
        "#   -　　taskが完了したか\n",
        "#   -　　その他関連情報\n",
        "\n",
        "action = 2 # 0: up 1: right 2:down 3:left\n",
        "next_state, reward, done, info = env.step(action)\n",
        "print(f\"After moving down 1 row, the agent is in state: {next_state}\")\n",
        "print(f\"After moving down 1 row, we got a reward of: {reward}\")\n",
        "print(\"After moving down 1 row, the task is\", \"\" if done else \"not\", \"finished\")"
      ],
      "metadata": {
        "colab": {
          "base_uri": "https://localhost:8080/"
        },
        "id": "Cne8SffrXpdw",
        "outputId": "b103591d-1691-4caf-a755-cb01934679e1"
      },
      "execution_count": 5,
      "outputs": [
        {
          "output_type": "stream",
          "name": "stdout",
          "text": [
            "After moving down 1 row, the agent is in state: (1, 0)\n",
            "After moving down 1 row, we got a reward of: -1.0\n",
            "After moving down 1 row, the task is not finished\n"
          ]
        }
      ]
    },
    {
      "cell_type": "code",
      "source": [
        "frame = env.render(mode='rgb_array')\n",
        "plt.axis('off')\n",
        "plt.title(f'State: {initial_state}')\n",
        "plt.imshow(frame)"
      ],
      "metadata": {
        "colab": {
          "base_uri": "https://localhost:8080/",
          "height": 445
        },
        "id": "DEFiu_PhYnKW",
        "outputId": "660bd1ed-8f6e-4f85-b781-312e83359d63"
      },
      "execution_count": 6,
      "outputs": [
        {
          "output_type": "execute_result",
          "data": {
            "text/plain": [
              "<matplotlib.image.AxesImage at 0x7f3ea715a4a0>"
            ]
          },
          "metadata": {},
          "execution_count": 6
        },
        {
          "output_type": "display_data",
          "data": {
            "text/plain": [
              "<Figure size 640x480 with 1 Axes>"
            ],
            "image/png": "[encoded data removed]"
          },
          "metadata": {}
        }
      ]
    },
    {
      "cell_type": "code",
      "source": [
        "# タスクを完了し、環境を閉じ、関連リソースを解放する。\n",
        "env.close()"
      ],
      "metadata": {
        "id": "2zzqIYsBYsjR"
      },
      "execution_count": 7,
      "outputs": []
    },
    {
      "cell_type": "markdown",
      "source": [
        "# 迷路\n",
        "\n"
      ],
      "metadata": {
        "id": "RAcvU94VZmK0"
      }
    },
    {
      "cell_type": "code",
      "source": [
        "env = Maze()"
      ],
      "metadata": {
        "id": "Y-AF1D-OZ8xn"
      },
      "execution_count": 8,
      "outputs": []
    },
    {
      "cell_type": "code",
      "source": [
        "# Stateは2つの整数のtupleで構成され、いずれも[0, 4]の範囲にあり、Agentが現在いる行と列を表す：\n",
        "print(f\"For example, the initial state is: {env.reset()}\")\n",
        "\n",
        "# 観測できる空間（タスクで可能なすべての状態の集合）には25の要素（行と列の可能なすべての組み合わせ）がある：\n",
        "# S = [(0, 0), (0, 1), (1, 0)....]\n",
        "print(f\"The space state is of type: {env.observation_space}\")"
      ],
      "metadata": {
        "colab": {
          "base_uri": "https://localhost:8080/"
        },
        "id": "EW_X5EfGaDVU",
        "outputId": "4921cca0-67eb-45a9-9cd5-27ba5694752b"
      },
      "execution_count": 9,
      "outputs": [
        {
          "output_type": "stream",
          "name": "stdout",
          "text": [
            "For example, the initial state is: (0, 0)\n",
            "The space state is of type: MultiDiscrete([5 5])\n"
          ]
        }
      ]
    },
    {
      "cell_type": "code",
      "source": [
        "# Actionは0-3の4通り\n",
        "# 0: up 1: right 2:down 3:left\n",
        "print(f\"An example of a valid action is: {env.action_space.sample()}\")\n",
        "print(f\"The action state is of type: {env.action_space}\")"
      ],
      "metadata": {
        "colab": {
          "base_uri": "https://localhost:8080/"
        },
        "id": "W91qinqwaIUy",
        "outputId": "46403856-044d-4b73-9591-4a4838328dac"
      },
      "execution_count": 10,
      "outputs": [
        {
          "output_type": "stream",
          "name": "stdout",
          "text": [
            "An example of a valid action is: 2\n",
            "The action state is of type: Discrete(4)\n"
          ]
        }
      ]
    },
    {
      "cell_type": "code",
      "source": [
        " # Trajectories and episoeds\n",
        "\n",
        "state = env.reset()\n",
        "trajectory = []\n",
        "\n",
        "for _ in range(3):\n",
        "  action = env.action_space.sample()\n",
        "  next_state, reward, done, info = env.step(action)\n",
        "  trajectory.append([state, action, reward, done, info, next_state])\n",
        "  state = next_state\n",
        "\n",
        "print(f\"rejectory:\\n{trajectory}\")"
      ],
      "metadata": {
        "colab": {
          "base_uri": "https://localhost:8080/"
        },
        "id": "BZtc6jJQa96P",
        "outputId": "eb41bd12-a5d9-4c64-ed5b-9b89fd373748"
      },
      "execution_count": 18,
      "outputs": [
        {
          "output_type": "stream",
          "name": "stdout",
          "text": [
            "rejectory:\n",
            "[[(0, 0), 3, -1.0, False, {}, (0, 0)], [(0, 0), 2, -1.0, False, {}, (1, 0)], [(1, 0), 2, -1.0, False, {}, (2, 0)]]\n"
          ]
        }
      ]
    },
    {
      "cell_type": "code",
      "source": [
        "frame = env.render(mode='rgb_array')\n",
        "plt.axis('off')\n",
        "plt.title(f'State: {trajectory}')\n",
        "plt.imshow(frame)"
      ],
      "metadata": {
        "colab": {
          "base_uri": "https://localhost:8080/",
          "height": 445
        },
        "id": "ZmAwZZRJ9a3s",
        "outputId": "a6ea2d34-68a9-4bec-ed10-74eb5bbcfc49"
      },
      "execution_count": 19,
      "outputs": [
        {
          "output_type": "execute_result",
          "data": {
            "text/plain": [
              "<matplotlib.image.AxesImage at 0x7f3ea2d82020>"
            ]
          },
          "metadata": {},
          "execution_count": 19
        },
        {
          "output_type": "display_data",
          "data": {
            "text/plain": [
              "<Figure size 640x480 with 1 Axes>"
            ],
            "image/png": "[encoded data removed]"
          },
          "metadata": {}
        }
      ]
    },
    {
      "cell_type": "code",
      "source": [
        "# episode(goal)まで実行\n",
        "state = env.reset()\n",
        "episode = []\n",
        "done = False\n",
        "\n",
        "while not done:\n",
        "  action = env.action_space.sample()\n",
        "  next_state, reward, done, info = env.step(action)\n",
        "  trajectory.append([state, action, reward, done, info, next_state])\n",
        "  state = next_state\n",
        "\n",
        "print(f\"rejectory:\\n{trajectory}\")"
      ],
      "metadata": {
        "colab": {
          "base_uri": "https://localhost:8080/"
        },
        "id": "dSO2sH0F9tUp",
        "outputId": "b0b43b57-e6cd-4b52-9840-35bfd7cbe04b"
      },
      "execution_count": 20,
      "outputs": [
        {
          "output_type": "stream",
          "name": "stdout",
          "text": [
            "rejectory:\n",
            "[[(0, 0), 3, -1.0, False, {}, (0, 0)], [(0, 0), 2, -1.0, False, {}, (1, 0)], [(1, 0), 2, -1.0, False, {}, (2, 0)], [(0, 0), 1, -1.0, False, {}, (0, 1)], [(0, 1), 0, -1.0, False, {}, (0, 1)], [(0, 1), 2, -1.0, False, {}, (1, 1)], [(1, 1), 3, -1.0, False, {}, (1, 1)], [(1, 1), 2, -1.0, False, {}, (2, 1)], [(2, 1), 0, -1.0, False, {}, (1, 1)], [(1, 1), 0, -1.0, False, {}, (0, 1)], [(0, 1), 1, -1.0, False, {}, (0, 2)], [(0, 2), 2, -1.0, False, {}, (0, 2)], [(0, 2), 1, -1.0, False, {}, (0, 3)], [(0, 3), 1, -1.0, False, {}, (0, 4)], [(0, 4), 3, -1.0, False, {}, (0, 3)], [(0, 3), 3, -1.0, False, {}, (0, 2)], [(0, 2), 3, -1.0, False, {}, (0, 1)], [(0, 1), 3, -1.0, False, {}, (0, 0)], [(0, 0), 3, -1.0, False, {}, (0, 0)], [(0, 0), 3, -1.0, False, {}, (0, 0)], [(0, 0), 0, -1.0, False, {}, (0, 0)], [(0, 0), 2, -1.0, False, {}, (1, 0)], [(1, 0), 0, -1.0, False, {}, (0, 0)], [(0, 0), 3, -1.0, False, {}, (0, 0)], [(0, 0), 2, -1.0, False, {}, (1, 0)], [(1, 0), 3, -1.0, False, {}, (1, 0)], [(1, 0), 1, -1.0, False, {}, (1, 0)], [(1, 0), 3, -1.0, False, {}, (1, 0)], [(1, 0), 2, -1.0, False, {}, (2, 0)], [(2, 0), 1, -1.0, False, {}, (2, 0)], [(2, 0), 2, -1.0, False, {}, (3, 0)], [(3, 0), 2, -1.0, False, {}, (4, 0)], [(4, 0), 3, -1.0, False, {}, (4, 0)], [(4, 0), 2, -1.0, False, {}, (4, 0)], [(4, 0), 1, -1.0, False, {}, (4, 1)], [(4, 1), 2, -1.0, False, {}, (4, 1)], [(4, 1), 1, -1.0, False, {}, (4, 2)], [(4, 2), 3, -1.0, False, {}, (4, 1)], [(4, 1), 2, -1.0, False, {}, (4, 1)], [(4, 1), 0, -1.0, False, {}, (4, 1)], [(4, 1), 1, -1.0, False, {}, (4, 2)], [(4, 2), 0, -1.0, False, {}, (3, 2)], [(3, 2), 2, -1.0, False, {}, (4, 2)], [(4, 2), 1, -1.0, False, {}, (4, 2)], [(4, 2), 3, -1.0, False, {}, (4, 1)], [(4, 1), 3, -1.0, False, {}, (4, 0)], [(4, 0), 2, -1.0, False, {}, (4, 0)], [(4, 0), 3, -1.0, False, {}, (4, 0)], [(4, 0), 3, -1.0, False, {}, (4, 0)], [(4, 0), 1, -1.0, False, {}, (4, 1)], [(4, 1), 1, -1.0, False, {}, (4, 2)], [(4, 2), 3, -1.0, False, {}, (4, 1)], [(4, 1), 2, -1.0, False, {}, (4, 1)], [(4, 1), 1, -1.0, False, {}, (4, 2)], [(4, 2), 3, -1.0, False, {}, (4, 1)], [(4, 1), 1, -1.0, False, {}, (4, 2)], [(4, 2), 0, -1.0, False, {}, (3, 2)], [(3, 2), 0, -1.0, False, {}, (3, 2)], [(3, 2), 1, -1.0, False, {}, (3, 3)], [(3, 3), 2, -1.0, False, {}, (4, 3)], [(4, 3), 2, -1.0, False, {}, (4, 3)], [(4, 3), 1, -1.0, True, {}, (4, 4)]]\n"
          ]
        }
      ]
    },
    {
      "cell_type": "code",
      "source": [
        "frame = env.render(mode='rgb_array')\n",
        "plt.axis('off')\n",
        "plt.imshow(frame)"
      ],
      "metadata": {
        "colab": {
          "base_uri": "https://localhost:8080/",
          "height": 423
        },
        "id": "5p89KFJO-W33",
        "outputId": "8b225b34-10d3-47e6-905f-10c16274556b"
      },
      "execution_count": 23,
      "outputs": [
        {
          "output_type": "execute_result",
          "data": {
            "text/plain": [
              "<matplotlib.image.AxesImage at 0x7f3ea2b3eb30>"
            ]
          },
          "metadata": {},
          "execution_count": 23
        },
        {
          "output_type": "display_data",
          "data": {
            "text/plain": [
              "<Figure size 640x480 with 1 Axes>"
            ],
            "image/png": "[encoded data removed]"
          },
          "metadata": {}
        }
      ]
    },
    {
      "cell_type": "code",
      "source": [
        "# rewards\n",
        "state = env.reset()\n",
        "action = env.action_space.sample()\n",
        "_, reward, _, _ = env.step(action)\n",
        "\n",
        "print(f\"{reward=} {action=} {state=}\")"
      ],
      "metadata": {
        "colab": {
          "base_uri": "https://localhost:8080/"
        },
        "id": "1_EpwrEM-Zpp",
        "outputId": "38916d2f-936e-4781-9a2e-ffded32471c8"
      },
      "execution_count": 24,
      "outputs": [
        {
          "output_type": "stream",
          "name": "stdout",
          "text": [
            "reward=-1.0 action=1 state=(0, 0)\n"
          ]
        }
      ]
    },
    {
      "cell_type": "code",
      "source": [
        "# return\n",
        "state = env.reset()\n",
        "episode = []\n",
        "done = False\n",
        "gamma = 0.99 # 割引価値\n",
        "G_0 = 0 # return\n",
        "t = 0 # time\n",
        "\n",
        "while not done:\n",
        "  action = env.action_space.sample()\n",
        "  _, reward, done, _ = env.step(action)\n",
        "  G_0 += gamma ** t * reward\n",
        "  t +=1\n",
        "\n",
        "\n",
        "print(\n",
        "    f\"\"\"It took us {t} moves to find the exit,\n",
        "    and each reward r(s,a)=-1, so the return amounts to {G_0}\"\"\")"
      ],
      "metadata": {
        "colab": {
          "base_uri": "https://localhost:8080/"
        },
        "id": "2Q52igEk-45d",
        "outputId": "3c79a716-bcce-4470-f368-45f0995429f2"
      },
      "execution_count": 27,
      "outputs": [
        {
          "output_type": "stream",
          "name": "stdout",
          "text": [
            "It took us 1058 moves to find the exit,\n",
            "    and each reward r(s,a)=-1, so the return amounts to -99.99758989544105\n"
          ]
        }
      ]
    },
    {
      "cell_type": "code",
      "source": [
        "# Policy\n",
        "# 戦略は各選択肢を選ぶ確率分布であるため、ここでは一様分布と　とした\n",
        "\n",
        "def random_policy(state):\n",
        "    return np.array([0.25] * 4)"
      ],
      "metadata": {
        "id": "I-wV4jzA_arg"
      },
      "execution_count": 28,
      "outputs": []
    },
    {
      "cell_type": "code",
      "source": [
        "# Policyに基づいた行動を実施\n",
        "env = Maze()\n",
        "state = env.reset()\n",
        "action_probabilities = random_policy(state)"
      ],
      "metadata": {
        "id": "sD8W1JZlAJwF"
      },
      "execution_count": 30,
      "outputs": []
    },
    {
      "cell_type": "code",
      "source": [
        "objects = ['Up', 'Right', 'Down', 'Left']\n",
        "y_pos = np.arange(len(objects))\n",
        "\n",
        "plt.bar(y_pos, action_probabilities, alpha=0.5)\n",
        "plt.xticks(y_pos, objects)\n",
        "plt.ylabel('P(a | s)')\n",
        "plt.title('Random Policy')\n",
        "plt.tight_layout()\n",
        "\n",
        "plt.show()"
      ],
      "metadata": {
        "colab": {
          "base_uri": "https://localhost:8080/",
          "height": 487
        },
        "id": "0TFbAA1NASY1",
        "outputId": "625fc5bb-5d3f-40a5-9941-e84f6f96f5de"
      },
      "execution_count": 32,
      "outputs": [
        {
          "output_type": "display_data",
          "data": {
            "text/plain": [
              "<Figure size 640x480 with 1 Axes>"
            ],
            "image/png": "[encoded data removed]"
          },
          "metadata": {}
        }
      ]
    },
    {
      "cell_type": "code",
      "source": [
        "env.reset()\n",
        "done = False\n",
        "img = plt.imshow(env.render(mode='rgb_array'))\n",
        "gamma = 0.99 # 割引価値\n",
        "G_0 = 0 # return\n",
        "t = 0 # time\n",
        "\n",
        "while not done:\n",
        "  action = np.random.choice(range(4), 1, p=action_probabilities)\n",
        "  _, reward, done, _ = env.step(action)\n",
        "  G_0 += gamma ** t * reward\n",
        "  t +=1\n",
        "  img.set_data(env.render(mode='rgb_array'))\n",
        "  plt.axis('off')\n",
        "  display.display(plt.gcf())\n",
        "  display.clear_output(wait=True)\n",
        "\n",
        "\n",
        "print(\n",
        "    f\"\"\"It took us {t} moves to find the exit,\n",
        "    and each reward r(s,a)=-1, so the return amounts to {G_0}\"\"\")"
      ],
      "metadata": {
        "colab": {
          "base_uri": "https://localhost:8080/",
          "height": 441
        },
        "id": "dl9k4ZiRA5B4",
        "outputId": "0f400f78-0088-4c97-daea-5a7a32fe5a80"
      },
      "execution_count": 35,
      "outputs": [
        {
          "output_type": "stream",
          "name": "stdout",
          "text": [
            "It took us 882 moves to find the exit,\n",
            "    and each reward r(s,a)=-1, so the return amounts to -99.98586676321653\n"
          ]
        },
        {
          "output_type": "display_data",
          "data": {
            "text/plain": [
              "<Figure size 640x480 with 1 Axes>"
            ],
            "image/png": "[encoded data removed]"
          },
          "metadata": {}
        }
      ]
    },
    {
      "cell_type": "code",
      "source": [],
      "metadata": {
        "id": "zGngF02UBpbJ"
      },
      "execution_count": null,
      "outputs": []
    }
  ]
}